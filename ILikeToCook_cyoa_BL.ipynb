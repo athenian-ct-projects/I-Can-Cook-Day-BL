{
  "nbformat": 4,
  "nbformat_minor": 0,
  "metadata": {
    "colab": {
      "name": "ILikeToCook cyoa BL.ipynb",
      "provenance": [],
      "collapsed_sections": [],
      "include_colab_link": true
    },
    "kernelspec": {
      "name": "python3",
      "display_name": "Python 3"
    }
  },
  "cells": [
    {
      "cell_type": "markdown",
      "metadata": {
        "id": "view-in-github",
        "colab_type": "text"
      },
      "source": [
        "<a href=\"https://colab.research.google.com/github/athenian-ct-projects/I-Can-Cook-Day-BL/blob/master/ILikeToCook_cyoa_BL.ipynb\" target=\"_parent\"><img src=\"https://colab.research.google.com/assets/colab-badge.svg\" alt=\"Open In Colab\"/></a>"
      ]
    },
    {
      "cell_type": "markdown",
      "metadata": {
        "id": "So0wFbyeZwbG",
        "colab_type": "text"
      },
      "source": [
        "I Can Cook Day choose your own adventure\n",
        "by Bennett L '23"
      ]
    },
    {
      "cell_type": "markdown",
      "metadata": {
        "id": "TU8BbcrXil2k",
        "colab_type": "text"
      },
      "source": [
        "Story: You are stranded in a forest. Your plane has crashed while flying to Argentina and you don't know where it is. You have to create a proper meal in order to survive! Good Luck, and remember: Half a heart, but you are not through, a line to the right, now that's a two! If you don't get the congrats statement, you DO NOT WIN."
      ]
    },
    {
      "cell_type": "code",
      "metadata": {
        "id": "2Nov2Gjcih0J",
        "colab_type": "code",
        "outputId": "e69f7dcc-87e2-4621-a320-02ab9674c450",
        "colab": {
          "base_uri": "https://localhost:8080/",
          "height": 442
        }
      },
      "source": [
        "\n",
        "#start() is used to start the game and to reset it if you choose the wrong path\n",
        "def start():\n",
        "  \n",
        "  #Stranded in forest\n",
        "  \n",
        "  print(\"You know that water is needed to survive, but so is shelter. Do you choose to go and find a river, or stay and build a shelter?\")\n",
        "  x=input(\"Stay or Go?: \")\n",
        "  print(\"\")\n",
        "  if x==\"Stay\" or x==\"stay\":\n",
        "    print(\"While Looking for different fallen branches to build a shelter, a pinecone hits you in the head and knocks you out. \\nWhen you wake, you find yourself in the mouth of some weird bear/bunny hybrid. You get eaten.\")\n",
        "    print(\"\")\n",
        "    start()\n",
        "  else:\n",
        "    print(\"After walking for what seemed like miles, the sound of running water catches your ear. Sprinting to the river, you drop a random, meaningless coin. \\nWhen there, you remember where your water bottle is. \\nDo you choose to stay and make camp, or go back and get your water bottle? \")\n",
        "    \n",
        "  #Decide on stay or go find water\n",
        "  y=input(\"Stay or go back: \")\n",
        "  print(\"\")\n",
        "  if y==\"stay\" or y==\"Stay\":\n",
        "    print(\"After Drinking From the Water, you randomly die of dysentary.\")\n",
        "    print(\"\")\n",
        "    start()\n",
        "  else: \n",
        "    print(\"When walking back, you stumble across a bright berry bush that, to your knowledge, looks fairly poisonous. Do you choose to take it for a snack, or leave it be?\")\n",
        "\n",
        "  #Choose To take or leave berries\n",
        "  z=input(\"Leave it or take it: \")\n",
        "  print(\"\")\n",
        "  if z==\"Leave it\" or z==\"leave it\" or z==\"Leave It\":\n",
        "   print(\"\")\n",
        "   print(\"After getting hungry, you have nothing to do but wander into the forest. After getting lost, you die by falling into a random pit of tigers. Wait, really?\")\n",
        "   start()\n",
        "  else:\n",
        "   print(\"Cautiously, you grab the berries and head on. After getting back to where you woke up, you set the berries down in a little hole. \\nAfter looking for the water bottle and finding nothing, you are debating whether or not to go get food.\")\n",
        "   \n",
        "  #Go out for food or not\n",
        "  a=input(\"Stay or go get food?: \")\n",
        "  print(\"\")\n",
        "  if a==\"Stay\" or a==\"stay\":\n",
        "    \n",
        "    print(\"After staying, you try to eat the berries only to find out that they are indeed poisonous. You are now dead.\")\n",
        "    start()\n",
        "  else:\n",
        "\n",
        "    print(\"After walking over leaves and branches for a while, you come across a dead squirrel.\")\n",
        "    \n",
        "  #Take the squirrel? \n",
        "  \n",
        "  b=input(\"Do you take it or leave it be?: \")\n",
        "  print(\"\")\n",
        "  if b==\"Leave it\" or b==\"leave it\" or b==\"Take It\":\n",
        "    print(\"After leaving the squirrel, you go back and eat the berries, but they are indeed poisonous. You dead.\")\n",
        "    start()\n",
        "  else:\n",
        "    print(\"Trying to hold your vomit back, you take the dead squirrel back to where you woke up. After making a fire and cooking and eating the squirrel, \\nyou fall asleep. You wake up to the sound of voices, and you turn over to see Ryan Reynolds drop down from a helicopter and save you! \\nHe sweeps you up and you ascend up into the helicopter where Arnold Schwarzenegger and Keanu Reeves are up there. Surrounded by celebrities, you travel back to civilization!\")\n",
        "   \n",
        "    #This is where the game ends, because it TOTALLY isn't obvious already.\n",
        "start()\n",
        "\n",
        "w=0\n",
        "#No matter what, they get this wrong.\n",
        "while w==0:\n",
        "  c=input(\"Do You Wish To Leave The Game or Gain 1,000,000 Dollars? Take the money or leave: \")\n",
        "  print(\"\")\n",
        "  if c==\"Take the money\" or c==\"take the money\":\n",
        "    w=2\n",
        "  else:\n",
        "    w=1\n",
        "\n",
        "for w in range(2,3):\n",
        "    d=int(input(\"You Greedy Boi. Ight U Bout To Head Out. Press 1 to restart:  \"))\n",
        "    w=0\n",
        "if d==1:\n",
        "  start()\n",
        "  \n",
        "\n",
        "if d==2:\n",
        "  print(\"Congrats! You Found the Secret Ending! Thanks For Playing!\")\n",
        "\n",
        "\n",
        "\n",
        "\n",
        "\n",
        "\n",
        "\n",
        "\n",
        "\n",
        "\n",
        "\n",
        "\n",
        "\n",
        "\n",
        "\n",
        "\n",
        "  \n",
        "\n",
        "\n",
        "\n"
      ],
      "execution_count": 0,
      "outputs": [
        {
          "output_type": "stream",
          "text": [
            "You know that water is needed to survive, but so is shelter. Do you choose to go and find a river, or stay and build a shelter?\n",
            "Stay or Go?: go\n",
            "\n",
            "After walking for what seemed like miles, the sound of running water catches your ear. Sprinting to the river, you drop a random, meaningless coin. \n",
            "When there, you remember where your water bottle is. \n",
            "Do you choose to stay and make camp, or go back and get your water bottle? \n",
            "Stay or go back: go\n",
            "\n",
            "When walking back, you stumble across a bright berry bush that, to your knowledge, looks fairly poisonous. Do you choose to take it for a snack, or leave it be?\n",
            "Leave it or take it: take it\n",
            "\n",
            "Cautiously, you grab the berries and head on. After getting back to where you woke up, you set the berries down in a little hole. \n",
            "After looking for the water bottle and finding nothing, you are debating whether or not to go get food.\n",
            "Stay or go get food?: go\n",
            "\n",
            "After walking over leaves and branches for a while, you come across a dead squirrel.\n",
            "Do you take it or leave it be?: take it\n",
            "\n",
            "Trying to hold your vomit back, you take the dead squirrel back to where you woke up. After making a fire and cooking and eating the squirrel, \n",
            "you fall asleep. You wake up to the sound of voices, and you turn over to see Ryan Reynolds drop down from a helicopter and save you! \n",
            "He sweeps you up and you ascend up into the helicopter where Arnold Schwarzenegger and Keanu Reeves are up there. Surrounded by celebreties, you travel back to civilization!\n",
            "Do You Wish To Leave The Game or Gain 1,000,000 Dollars? Take the money or leave: leave\n",
            "\n",
            "You Greedy Boi. Ight U Bout To Head Out. Press 1 to restart:  2\n",
            "Congrats! You Found the Secret Ending! Thanks For Playing!\n"
          ],
          "name": "stdout"
        }
      ]
    }
  ]
}